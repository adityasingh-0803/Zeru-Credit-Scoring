{
 "cells": [
  {
   "cell_type": "code",
   "execution_count": 1,
   "id": "0148ff50-75ec-4431-a20b-ee77ce569f28",
   "metadata": {},
   "outputs": [
    {
     "name": "stdout",
     "output_type": "stream",
     "text": [
      "Requirement already satisfied: pandas in c:\\users\\asus\\anaconda3\\lib\\site-packages (2.2.2)\n",
      "Requirement already satisfied: numpy in c:\\users\\asus\\anaconda3\\lib\\site-packages (1.26.4)\n",
      "Requirement already satisfied: matplotlib in c:\\users\\asus\\anaconda3\\lib\\site-packages (3.9.2)\n",
      "Requirement already satisfied: seaborn in c:\\users\\asus\\anaconda3\\lib\\site-packages (0.13.2)\n",
      "Requirement already satisfied: scikit-learn in c:\\users\\asus\\anaconda3\\lib\\site-packages (1.5.1)\n",
      "Requirement already satisfied: python-dateutil>=2.8.2 in c:\\users\\asus\\anaconda3\\lib\\site-packages (from pandas) (2.9.0.post0)\n",
      "Requirement already satisfied: pytz>=2020.1 in c:\\users\\asus\\anaconda3\\lib\\site-packages (from pandas) (2024.1)\n",
      "Requirement already satisfied: tzdata>=2022.7 in c:\\users\\asus\\anaconda3\\lib\\site-packages (from pandas) (2023.3)\n",
      "Requirement already satisfied: contourpy>=1.0.1 in c:\\users\\asus\\anaconda3\\lib\\site-packages (from matplotlib) (1.2.0)\n",
      "Requirement already satisfied: cycler>=0.10 in c:\\users\\asus\\anaconda3\\lib\\site-packages (from matplotlib) (0.11.0)\n",
      "Requirement already satisfied: fonttools>=4.22.0 in c:\\users\\asus\\anaconda3\\lib\\site-packages (from matplotlib) (4.51.0)\n",
      "Requirement already satisfied: kiwisolver>=1.3.1 in c:\\users\\asus\\anaconda3\\lib\\site-packages (from matplotlib) (1.4.4)\n",
      "Requirement already satisfied: packaging>=20.0 in c:\\users\\asus\\anaconda3\\lib\\site-packages (from matplotlib) (24.1)\n",
      "Requirement already satisfied: pillow>=8 in c:\\users\\asus\\anaconda3\\lib\\site-packages (from matplotlib) (10.4.0)\n",
      "Requirement already satisfied: pyparsing>=2.3.1 in c:\\users\\asus\\anaconda3\\lib\\site-packages (from matplotlib) (3.1.2)\n",
      "Requirement already satisfied: scipy>=1.6.0 in c:\\users\\asus\\anaconda3\\lib\\site-packages (from scikit-learn) (1.13.1)\n",
      "Requirement already satisfied: joblib>=1.2.0 in c:\\users\\asus\\anaconda3\\lib\\site-packages (from scikit-learn) (1.4.2)\n",
      "Requirement already satisfied: threadpoolctl>=3.1.0 in c:\\users\\asus\\anaconda3\\lib\\site-packages (from scikit-learn) (3.5.0)\n",
      "Requirement already satisfied: six>=1.5 in c:\\users\\asus\\anaconda3\\lib\\site-packages (from python-dateutil>=2.8.2->pandas) (1.16.0)\n",
      "Note: you may need to restart the kernel to use updated packages.\n"
     ]
    }
   ],
   "source": [
    "pip install pandas numpy matplotlib seaborn scikit-learn\n"
   ]
  },
  {
   "cell_type": "code",
   "execution_count": 30,
   "id": "e0f70c71-6cec-4b4c-8c84-4936a55d1d5e",
   "metadata": {},
   "outputs": [],
   "source": [
    "import warnings\n",
    "warnings.simplefilter(action='ignore', category=FutureWarning)\n"
   ]
  },
  {
   "cell_type": "code",
   "execution_count": 2,
   "id": "1cb249cb-7930-407b-9240-1f2a3cf60a35",
   "metadata": {},
   "outputs": [],
   "source": [
    "import json\n",
    "import pandas as pd\n",
    "import numpy as np\n",
    "from glob import glob\n",
    "import matplotlib.pyplot as plt\n",
    "import seaborn as sns\n",
    "from sklearn.preprocessing import MinMaxScaler\n"
   ]
  },
  {
   "cell_type": "code",
   "execution_count": 16,
   "id": "19df817b-b4de-4291-a9b8-f0ffb7bd3ae0",
   "metadata": {},
   "outputs": [],
   "source": [
    "import json\n",
    "\n",
    "# Correct Windows path using raw string literals\n",
    "files = [\n",
    "    r\"D:\\Aditya\\compoundV2_transactions_ethereum_chunk_0.json\",\n",
    "    r\"D:\\Aditya\\compoundV2_transactions_ethereum_chunk_1.json\",\n",
    "    r\"D:\\Aditya\\compoundV2_transactions_ethereum_chunk_2.json\"\n",
    "]\n",
    "\n",
    "# Create master lists for each transaction type\n",
    "all_deposits, all_borrows, all_repays, all_withdraws, all_liquidations = [], [], [], [], []\n",
    "\n",
    "# Load and combine data\n",
    "for file in files:\n",
    "    with open(file, 'r') as f:\n",
    "        data = json.load(f)\n",
    "        all_deposits.extend(data.get(\"deposits\", []))\n",
    "        all_borrows.extend(data.get(\"borrows\", []))\n",
    "        all_repays.extend(data.get(\"repays\", []))\n",
    "        all_withdraws.extend(data.get(\"withdraws\", []))\n",
    "        all_liquidations.extend(data.get(\"liquidations\", []))\n"
   ]
  },
  {
   "cell_type": "code",
   "execution_count": 17,
   "id": "eb105361-48cf-4b12-8a96-621157188f13",
   "metadata": {},
   "outputs": [],
   "source": [
    "import pandas as pd\n",
    "\n",
    "deposits_df = pd.json_normalize(all_deposits)\n",
    "borrows_df = pd.json_normalize(all_borrows)\n",
    "repays_df = pd.json_normalize(all_repays)\n",
    "withdraws_df = pd.json_normalize(all_withdraws)\n",
    "liquidations_df = pd.json_normalize(all_liquidations)\n"
   ]
  },
  {
   "cell_type": "code",
   "execution_count": 18,
   "id": "64879ce1-a184-4760-a83a-5bb60e7c302a",
   "metadata": {},
   "outputs": [],
   "source": [
    "def aggregate_amount(df, col_name='amountUSD'):\n",
    "    df[col_name] = df[col_name].astype(float)\n",
    "    return df.groupby('account.id')[col_name].sum().reset_index()\n"
   ]
  },
  {
   "cell_type": "code",
   "execution_count": 19,
   "id": "4e81e59e-be70-499a-a84c-2b318b45245a",
   "metadata": {
    "scrolled": true
   },
   "outputs": [
    {
     "name": "stdout",
     "output_type": "stream",
     "text": [
      "D:\\Aditya\\compoundV2_transactions_ethereum_chunk_0.json:\n",
      "  deposits: 10000\n",
      "  borrows: 10000\n",
      "  repays: 10000\n",
      "  withdraws: 10000\n",
      "  liquidations: 0\n",
      "\n",
      "D:\\Aditya\\compoundV2_transactions_ethereum_chunk_1.json:\n",
      "  deposits: 10000\n",
      "  borrows: 10000\n",
      "  repays: 10000\n",
      "  withdraws: 10000\n",
      "  liquidations: 0\n",
      "\n",
      "D:\\Aditya\\compoundV2_transactions_ethereum_chunk_2.json:\n",
      "  deposits: 10000\n",
      "  borrows: 10000\n",
      "  repays: 10000\n",
      "  withdraws: 10000\n",
      "  liquidations: 0\n",
      "\n"
     ]
    }
   ],
   "source": [
    "for file in files:\n",
    "    with open(file, 'r') as f:\n",
    "        data = json.load(f)\n",
    "        print(f\"{file}:\")\n",
    "        print(\"  deposits:\", len(data.get(\"deposits\", [])))\n",
    "        print(\"  borrows:\", len(data.get(\"borrows\", [])))\n",
    "        print(\"  repays:\", len(data.get(\"repays\", [])))\n",
    "        print(\"  withdraws:\", len(data.get(\"withdraws\", [])))\n",
    "        print(\"  liquidations:\", len(data.get(\"liquidations\", [])))\n",
    "        print()\n",
    "\n"
   ]
  },
  {
   "cell_type": "code",
   "execution_count": 21,
   "id": "df46b71d-443b-4b83-a0ec-2eba501d596f",
   "metadata": {},
   "outputs": [],
   "source": [
    "all_deposits, all_borrows, all_repays, all_withdraws, all_liquidations = [], [], [], [], []\n",
    "\n",
    "for file in files:\n",
    "    with open(file, 'r') as f:\n",
    "        data = json.load(f)\n",
    "        all_deposits.extend(data.get(\"deposits\", []))\n",
    "        all_borrows.extend(data.get(\"borrows\", []))\n",
    "        all_repays.extend(data.get(\"repays\", []))\n",
    "        all_withdraws.extend(data.get(\"withdraws\", []))\n",
    "        all_liquidations.extend(data.get(\"liquidations\", []))  # Will be empty, but that's fine\n",
    "\n"
   ]
  },
  {
   "cell_type": "code",
   "execution_count": 22,
   "id": "6da6b6e8-e7e6-40aa-86c4-599421e8bbd2",
   "metadata": {},
   "outputs": [],
   "source": [
    "deposits_df = pd.json_normalize(all_deposits)\n",
    "borrows_df = pd.json_normalize(all_borrows)\n",
    "repays_df = pd.json_normalize(all_repays)\n",
    "withdraws_df = pd.json_normalize(all_withdraws)\n",
    "liquidations_df = pd.json_normalize(all_liquidations)\n"
   ]
  },
  {
   "cell_type": "code",
   "execution_count": 13,
   "id": "3b10a37d-f0f5-48f6-a455-7931957c9e0f",
   "metadata": {},
   "outputs": [],
   "source": [
    "from sklearn.preprocessing import MinMaxScaler\n",
    "\n",
    "wallets['raw_score'] = (\n",
    "    (wallets['total_deposited_usd'] * 0.4) +\n",
    "    (wallets['num_deposits'] * 0.3) +\n",
    "    (wallets['token_variety'] * 0.3)\n",
    ")\n",
    "\n",
    "scaler = MinMaxScaler(feature_range=(0, 100))\n",
    "wallets['score'] = scaler.fit_transform(wallets[['raw_score']])\n"
   ]
  },
  {
   "cell_type": "code",
   "execution_count": 25,
   "id": "948d574f-d9b6-4f07-9a4e-921f489ff5bb",
   "metadata": {},
   "outputs": [],
   "source": [
    "# Aggregation function for amountUSD per wallet\n",
    "def agg_amount(df, label):\n",
    "    df['amountUSD'] = df['amountUSD'].astype(float)\n",
    "    grouped = df.groupby('account.id')['amountUSD'].sum().reset_index()\n",
    "    return grouped.rename(columns={'amountUSD': f'total_{label}_usd'})\n",
    "\n",
    "# Aggregate transaction types\n",
    "deposits = agg_amount(deposits_df, 'deposited')\n",
    "borrows = agg_amount(borrows_df, 'borrowed')\n",
    "repays = agg_amount(repays_df, 'repaid')\n",
    "withdraws = agg_amount(withdraws_df, 'withdrawn')\n",
    "\n",
    "# Count liquidations per wallet (safely handle empty DataFrame)\n",
    "if not liquidations_df.empty and 'account.id' in liquidations_df.columns:\n",
    "    liquidations = liquidations_df['account.id'].value_counts().reset_index()\n",
    "    liquidations.columns = ['account.id', 'num_liquidations']\n",
    "else:\n",
    "    liquidations = pd.DataFrame(columns=['account.id', 'num_liquidations'])\n",
    "\n"
   ]
  },
  {
   "cell_type": "code",
   "execution_count": 31,
   "id": "8cec9a99-525b-4ab6-af94-b56ec3e7ce01",
   "metadata": {},
   "outputs": [],
   "source": [
    "# Step 6: Merge All Features\n",
    "wallet_df = deposits \\\n",
    "    .merge(borrows, on='account.id', how='outer') \\\n",
    "    .merge(repays, on='account.id', how='outer') \\\n",
    "    .merge(withdraws, on='account.id', how='outer') \\\n",
    "    .merge(liquidations, on='account.id', how='left')\n",
    "\n",
    "# Fill missing values and fix FutureWarning with infer_objects\n",
    "wallet_df.fillna(0, inplace=True)\n",
    "wallet_df = wallet_df.infer_objects(copy=False)  # ← This line prevents future type issues\n",
    "\n",
    "# Rename wallet ID column\n",
    "wallet_df.rename(columns={'account.id': 'wallet_id'}, inplace=True)\n",
    "\n",
    "\n",
    "\n"
   ]
  },
  {
   "cell_type": "code",
   "execution_count": 32,
   "id": "234c9042-4a77-4595-b469-170bab094022",
   "metadata": {},
   "outputs": [],
   "source": [
    "wallet_df['repay_ratio'] = wallet_df['total_repaid_usd'] / (wallet_df['total_borrowed_usd'] + 1e-6)\n",
    "wallet_df['deposit_to_borrow_ratio'] = wallet_df['total_deposited_usd'] / (wallet_df['total_borrowed_usd'] + 1e-6)\n",
    "wallet_df['net_deposit'] = wallet_df['total_deposited_usd'] - wallet_df['total_withdrawn_usd']\n"
   ]
  },
  {
   "cell_type": "code",
   "execution_count": 33,
   "id": "64e2c293-7ccc-4ecb-a3db-b3a3279f204d",
   "metadata": {},
   "outputs": [],
   "source": [
    "from sklearn.preprocessing import MinMaxScaler\n",
    "\n",
    "# Compute raw score with weighted behavior\n",
    "wallet_df['raw_score'] = (\n",
    "    (wallet_df['repay_ratio'] * 40) +\n",
    "    (wallet_df['deposit_to_borrow_ratio'] * 30) +\n",
    "    (wallet_df['net_deposit'] * 0.001) -  # net deposit scaled down\n",
    "    (wallet_df['num_liquidations'] * 10)  # if liquidations existed\n",
    ")\n",
    "\n",
    "# Normalize raw score to a 0–100 scale\n",
    "scaler = MinMaxScaler(feature_range=(0, 100))\n",
    "wallet_df['score'] = scaler.fit_transform(wallet_df[['raw_score']])\n"
   ]
  },
  {
   "cell_type": "code",
   "execution_count": 34,
   "id": "6273861d-f94f-42d8-a03b-2df3e866770f",
   "metadata": {},
   "outputs": [],
   "source": [
    "top_1000 = wallet_df[['wallet_id', 'score']].sort_values(by='score', ascending=False).head(1000)\n",
    "top_1000.to_csv(\"D:/Aditya/top_1000_wallets_final.csv\", index=False)\n"
   ]
  },
  {
   "cell_type": "code",
   "execution_count": 35,
   "id": "dc849fed-0a1c-426a-901a-b0f89ac7d39e",
   "metadata": {},
   "outputs": [
    {
     "data": {
      "image/png": "[encoded data removed]",
      "text/plain": [
       "<Figure size 640x480 with 1 Axes>"
      ]
     },
     "metadata": {},
     "output_type": "display_data"
    }
   ],
   "source": [
    "import seaborn as sns\n",
    "import matplotlib.pyplot as plt\n",
    "\n",
    "sns.histplot(wallet_df['score'], bins=30)\n",
    "plt.title(\"Wallet Score Distribution\")\n",
    "plt.xlabel(\"Score\")\n",
    "plt.ylabel(\"Number of Wallets\")\n",
    "plt.show()\n"
   ]
  },
  {
   "cell_type": "code",
   "execution_count": 36,
   "id": "0adac43b-3bec-4dfe-aca3-24f50de4eaa7",
   "metadata": {},
   "outputs": [],
   "source": [
    "top_1000 = wallet_df[['wallet_id', 'score']].sort_values(by='score', ascending=False).head(1000)\n",
    "top_1000.to_csv(\"D:/Aditya/top_1000_wallets_final.csv\", index=False)\n"
   ]
  },
  {
   "cell_type": "code",
   "execution_count": null,
   "id": "fd25a3ba-3e87-46b0-993a-a3bf1810ae87",
   "metadata": {},
   "outputs": [],
   "source": []
  }
 ],
 "metadata": {
  "kernelspec": {
   "display_name": "Python 3 (ipykernel)",
   "language": "python",
   "name": "python3"
  },
  "language_info": {
   "codemirror_mode": {
    "name": "ipython",
    "version": 3
   },
   "file_extension": ".py",
   "mimetype": "text/x-python",
   "name": "python",
   "nbconvert_exporter": "python",
   "pygments_lexer": "ipython3",
   "version": "3.12.7"
  }
 },
 "nbformat": 4,
 "nbformat_minor": 5
}
